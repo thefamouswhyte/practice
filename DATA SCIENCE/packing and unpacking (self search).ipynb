{
 "cells": [
  {
   "cell_type": "markdown",
   "id": "458a59af",
   "metadata": {},
   "source": [
    "# UNPACKING TUPLES "
   ]
  },
  {
   "cell_type": "code",
   "execution_count": 1,
   "id": "a0b0d08e",
   "metadata": {},
   "outputs": [
    {
     "name": "stdout",
     "output_type": "stream",
     "text": [
      "1\n",
      "2\n",
      "3\n",
      "4\n",
      "5\n",
      "6\n"
     ]
    }
   ],
   "source": [
    "(a,b,c,d,e,f)=(1,2,3,4,5,6)\n",
    "print (a)\n",
    "print (b)\n",
    "print (c)\n",
    "print (d)\n",
    "print (e)\n",
    "print (f)"
   ]
  },
  {
   "cell_type": "code",
   "execution_count": 4,
   "id": "e56b796d",
   "metadata": {},
   "outputs": [
    {
     "name": "stdout",
     "output_type": "stream",
     "text": [
      "players_in_group_1: tega & daniel\n",
      "players_in_group_2: charles & emmanuel\n",
      "players_in_group_3: whyte & george\n"
     ]
    }
   ],
   "source": [
    "team1=[\"tega\",\"charles\",\"whyte\"]\n",
    "team2=[\"daniel\",\"emmanuel\",\"george\"]\n",
    "a,b,c=team1\n",
    "d,e,f=team2\n",
    "print(\"players_in_group_1:\",a,\"&\",d)\n",
    "print(\"players_in_group_2:\",b,\"&\",e)\n",
    "print(\"players_in_group_3:\",c,\"&\",f)"
   ]
  },
  {
   "cell_type": "markdown",
   "id": "5064d1b2",
   "metadata": {},
   "source": [
    "# PACKING "
   ]
  },
  {
   "cell_type": "code",
   "execution_count": 20,
   "id": "6381fe0f",
   "metadata": {},
   "outputs": [
    {
     "name": "stdout",
     "output_type": "stream",
     "text": [
      "('tega:', 'charles:', 'whyte:')\n",
      "('daniel:', 'emmanuel:', 'george:')\n"
     ]
    }
   ],
   "source": [
    "a=(\"tega:\")\n",
    "b=(\"charles:\")\n",
    "c=(\"whyte:\")\n",
    "d=(\"daniel:\")\n",
    "e=(\"emmanuel:\")\n",
    "f=(\"george:\")\n",
    "team1=(a,b,c)\n",
    "team2=(d,e,f)\n",
    "print (team1)\n",
    "print (team2)"
   ]
  },
  {
   "cell_type": "code",
   "execution_count": null,
   "id": "e863e03c",
   "metadata": {},
   "outputs": [],
   "source": []
  }
 ],
 "metadata": {
  "kernelspec": {
   "display_name": "Python 3 (ipykernel)",
   "language": "python",
   "name": "python3"
  },
  "language_info": {
   "codemirror_mode": {
    "name": "ipython",
    "version": 3
   },
   "file_extension": ".py",
   "mimetype": "text/x-python",
   "name": "python",
   "nbconvert_exporter": "python",
   "pygments_lexer": "ipython3",
   "version": "3.11.4"
  }
 },
 "nbformat": 4,
 "nbformat_minor": 5
}
