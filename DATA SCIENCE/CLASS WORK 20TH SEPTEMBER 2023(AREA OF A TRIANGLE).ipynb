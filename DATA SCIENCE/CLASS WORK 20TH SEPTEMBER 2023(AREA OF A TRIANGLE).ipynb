{
 "cells": [
  {
   "cell_type": "code",
   "execution_count": null,
   "id": "b2555580",
   "metadata": {},
   "outputs": [],
   "source": [
    "# CLASS WORK "
   ]
  },
  {
   "cell_type": "code",
   "execution_count": 1,
   "id": "38287e6d",
   "metadata": {},
   "outputs": [],
   "source": [
    "area=lambda x,y: 0.5*(x*y)"
   ]
  },
  {
   "cell_type": "code",
   "execution_count": 2,
   "id": "2264879d",
   "metadata": {},
   "outputs": [
    {
     "data": {
      "text/plain": [
       "16.0"
      ]
     },
     "execution_count": 2,
     "metadata": {},
     "output_type": "execute_result"
    }
   ],
   "source": [
    "area(4,8)"
   ]
  },
  {
   "cell_type": "markdown",
   "id": "b7a36908",
   "metadata": {},
   "source": [
    "# MAP"
   ]
  },
  {
   "cell_type": "code",
   "execution_count": 19,
   "id": "9d168198",
   "metadata": {},
   "outputs": [
    {
     "data": {
      "text/plain": [
       "[-9, -2, -35, -170, -1175, -1710]"
      ]
     },
     "execution_count": 19,
     "metadata": {},
     "output_type": "execute_result"
    }
   ],
   "source": [
    "list(map(lambda x:3*x-2*x**2,[3,2,5,10,25,30]))"
   ]
  },
  {
   "cell_type": "code",
   "execution_count": null,
   "id": "2f38f51c",
   "metadata": {},
   "outputs": [],
   "source": []
  }
 ],
 "metadata": {
  "kernelspec": {
   "display_name": "Python 3 (ipykernel)",
   "language": "python",
   "name": "python3"
  },
  "language_info": {
   "codemirror_mode": {
    "name": "ipython",
    "version": 3
   },
   "file_extension": ".py",
   "mimetype": "text/x-python",
   "name": "python",
   "nbconvert_exporter": "python",
   "pygments_lexer": "ipython3",
   "version": "3.11.4"
  }
 },
 "nbformat": 4,
 "nbformat_minor": 5
}
