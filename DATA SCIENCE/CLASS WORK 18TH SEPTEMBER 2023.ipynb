{
 "cells": [
  {
   "cell_type": "code",
   "execution_count": null,
   "id": "fa50000c",
   "metadata": {},
   "outputs": [],
   "source": [
    "def add_3(a,b=0,c=0):\n",
    "    d=a+b+c\n",
    "    return d"
   ]
  },
  {
   "cell_type": "code",
   "execution_count": null,
   "id": "ee0e0045",
   "metadata": {},
   "outputs": [],
   "source": [
    "add_3(44,5,6)"
   ]
  },
  {
   "cell_type": "code",
   "execution_count": null,
   "id": "65d624f1",
   "metadata": {},
   "outputs": [],
   "source": [
    "add_3(2,4)"
   ]
  },
  {
   "cell_type": "code",
   "execution_count": null,
   "id": "c4f0a1a4",
   "metadata": {},
   "outputs": [],
   "source": [
    "add_3(3)"
   ]
  },
  {
   "cell_type": "code",
   "execution_count": 7,
   "id": "6360ad25",
   "metadata": {},
   "outputs": [
    {
     "name": "stdout",
     "output_type": "stream",
     "text": [
      "Enter a number:7\n",
      "Enter a number:5\n",
      "Enter a number:4\n",
      "the sum is: 16\n"
     ]
    }
   ],
   "source": [
    "a=int(input(\"Enter a number:\"))\n",
    "b=int(input(\"Enter a number:\"))\n",
    "c=int(input(\"Enter a number:\"))\n",
    "d=a+b+c\n",
    "print(\"the sum is:\",d)"
   ]
  },
  {
   "cell_type": "code",
   "execution_count": null,
   "id": "bbad6c4e",
   "metadata": {},
   "outputs": [],
   "source": []
  },
  {
   "cell_type": "code",
   "execution_count": null,
   "id": "cebc02b4",
   "metadata": {},
   "outputs": [],
   "source": []
  },
  {
   "cell_type": "code",
   "execution_count": null,
   "id": "c6b904e2",
   "metadata": {},
   "outputs": [],
   "source": []
  },
  {
   "cell_type": "code",
   "execution_count": null,
   "id": "94b83de8",
   "metadata": {},
   "outputs": [],
   "source": []
  }
 ],
 "metadata": {
  "kernelspec": {
   "display_name": "Python 3 (ipykernel)",
   "language": "python",
   "name": "python3"
  },
  "language_info": {
   "codemirror_mode": {
    "name": "ipython",
    "version": 3
   },
   "file_extension": ".py",
   "mimetype": "text/x-python",
   "name": "python",
   "nbconvert_exporter": "python",
   "pygments_lexer": "ipython3",
   "version": "3.11.4"
  }
 },
 "nbformat": 4,
 "nbformat_minor": 5
}
