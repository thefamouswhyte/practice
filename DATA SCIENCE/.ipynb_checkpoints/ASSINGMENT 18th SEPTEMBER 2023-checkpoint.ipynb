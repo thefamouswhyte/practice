{
 "cells": [
  {
   "cell_type": "code",
   "execution_count": 5,
   "id": "58830cdf",
   "metadata": {},
   "outputs": [],
   "source": [
    "def median(a,b,c):\n",
    "    if a>=b and a<=c or a<=b and a>=c:\n",
    "        return a\n",
    "    if b>=a and b<=c or b<=a and b>=c:\n",
    "        return b\n",
    "    else:\n",
    "        return c"
   ]
  },
  {
   "cell_type": "code",
   "execution_count": 6,
   "id": "b0221dde",
   "metadata": {},
   "outputs": [
    {
     "data": {
      "text/plain": [
       "2"
      ]
     },
     "execution_count": 6,
     "metadata": {},
     "output_type": "execute_result"
    }
   ],
   "source": [
    "median(2,5,1)"
   ]
  },
  {
   "cell_type": "code",
   "execution_count": 7,
   "id": "b3206827",
   "metadata": {},
   "outputs": [
    {
     "data": {
      "text/plain": [
       "7"
      ]
     },
     "execution_count": 7,
     "metadata": {},
     "output_type": "execute_result"
    }
   ],
   "source": [
    "median(7,8,2)"
   ]
  },
  {
   "cell_type": "code",
   "execution_count": null,
   "id": "3341b967",
   "metadata": {},
   "outputs": [],
   "source": []
  }
 ],
 "metadata": {
  "kernelspec": {
   "display_name": "Python 3 (ipykernel)",
   "language": "python",
   "name": "python3"
  },
  "language_info": {
   "codemirror_mode": {
    "name": "ipython",
    "version": 3
   },
   "file_extension": ".py",
   "mimetype": "text/x-python",
   "name": "python",
   "nbconvert_exporter": "python",
   "pygments_lexer": "ipython3",
   "version": "3.11.4"
  }
 },
 "nbformat": 4,
 "nbformat_minor": 5
}
