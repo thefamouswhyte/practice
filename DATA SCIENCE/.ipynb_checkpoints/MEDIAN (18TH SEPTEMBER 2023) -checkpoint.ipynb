{
 "cells": [
  {
   "cell_type": "code",
   "execution_count": null,
   "id": "b285479d",
   "metadata": {},
   "outputs": [],
   "source": []
  },
  {
   "cell_type": "code",
   "execution_count": null,
   "id": "beb935ff",
   "metadata": {},
   "outputs": [],
   "source": [
    "def median(a,b,c):\n",
    "    numbers=[a,b,c]\n",
    "    numbers.sort()\n",
    "    return numbers[1]"
   ]
  },
  {
   "cell_type": "code",
   "execution_count": 1,
   "id": "4297a55b",
   "metadata": {},
   "outputs": [
    {
     "ename": "SyntaxError",
     "evalue": "expected '(' (2004150650.py, line 1)",
     "output_type": "error",
     "traceback": [
      "\u001b[1;36m  Cell \u001b[1;32mIn[1], line 1\u001b[1;36m\u001b[0m\n\u001b[1;33m    def median=(35,99,98):\u001b[0m\n\u001b[1;37m              ^\u001b[0m\n\u001b[1;31mSyntaxError\u001b[0m\u001b[1;31m:\u001b[0m expected '('\n"
     ]
    }
   ],
   "source": [
    "def median=(35,99,98):\n",
    "    numbers=[35,99,98]\n",
    "    numbers.sort()\n",
    "    return numbers[1]"
   ]
  },
  {
   "cell_type": "code",
   "execution_count": null,
   "id": "04920006",
   "metadata": {},
   "outputs": [],
   "source": [
    "# exercise 85"
   ]
  },
  {
   "cell_type": "code",
   "execution_count": 2,
   "id": "9c8b6034",
   "metadata": {},
   "outputs": [],
   "source": [
    "def get_ordinal(numbers):\n",
    "    if numbers not in [1,2,3,4]:\n",
    "        return \"\"\n",
    "ordinal_dict={\n",
    "    1:\"first\",\n",
    "    2:\"second\",\n",
    "    3:\"third\",\n",
    "    4:\"fourth\"\n",
    "}\n"
   ]
  },
  {
   "cell_type": "code",
   "execution_count": null,
   "id": "f05f2c9c",
   "metadata": {},
   "outputs": [],
   "source": []
  },
  {
   "cell_type": "code",
   "execution_count": null,
   "id": "dcfa29c2",
   "metadata": {},
   "outputs": [],
   "source": []
  }
 ],
 "metadata": {
  "kernelspec": {
   "display_name": "Python 3 (ipykernel)",
   "language": "python",
   "name": "python3"
  },
  "language_info": {
   "codemirror_mode": {
    "name": "ipython",
    "version": 3
   },
   "file_extension": ".py",
   "mimetype": "text/x-python",
   "name": "python",
   "nbconvert_exporter": "python",
   "pygments_lexer": "ipython3",
   "version": "3.11.4"
  }
 },
 "nbformat": 4,
 "nbformat_minor": 5
}
