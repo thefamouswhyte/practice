{
 "cells": [
  {
   "cell_type": "code",
   "execution_count": null,
   "id": "0841574a",
   "metadata": {},
   "outputs": [],
   "source": [
    "# QUESTION 104 (SORTED ORDER)"
   ]
  },
  {
   "cell_type": "code",
   "execution_count": 1,
   "id": "a1899bfa",
   "metadata": {},
   "outputs": [
    {
     "name": "stdout",
     "output_type": "stream",
     "text": [
      "Enter a value:7\n",
      "Enter a value:5\n",
      "Enter a value:9\n",
      "Enter a value:0\n",
      "5\n",
      "7\n",
      "9\n"
     ]
    }
   ],
   "source": [
    "value=int(input(\"Enter a value:\"))\n",
    "values=[]\n",
    "while value!=0:\n",
    "    values.append(value)\n",
    "    value=int(input(\"Enter a value:\"))\n",
    "    values.sort()\n",
    "for value in values:    \n",
    "    print(value)"
   ]
  },
  {
   "cell_type": "code",
   "execution_count": null,
   "id": "86fd7ba1",
   "metadata": {},
   "outputs": [],
   "source": [
    "# QUESTION 105 (REVERSE ORDER)"
   ]
  },
  {
   "cell_type": "code",
   "execution_count": 5,
   "id": "75cf61b7",
   "metadata": {},
   "outputs": [
    {
     "name": "stdout",
     "output_type": "stream",
     "text": [
      "Enter a value:6\n",
      "Enter a value:9\n",
      "Enter a value:4\n",
      "Enter a value:8\n",
      "Enter a value:3\n",
      "Enter a value:0\n",
      "9\n",
      "8\n",
      "6\n",
      "4\n",
      "3\n"
     ]
    }
   ],
   "source": [
    "value=int(input(\"Enter a value:\"))\n",
    "values=[]\n",
    "sentinel=0\n",
    "while value!=sentinel:\n",
    "    values.append(value)\n",
    "    value=int(input(\"Enter a value:\"))\n",
    "    values.sort(reverse=True)\n",
    "for value in values:\n",
    "    print(value)"
   ]
  },
  {
   "cell_type": "code",
   "execution_count": null,
   "id": "7760b972",
   "metadata": {},
   "outputs": [],
   "source": [
    "# QUESTION 107(AVOIDING DUPLICATES)"
   ]
  },
  {
   "cell_type": "code",
   "execution_count": 12,
   "id": "fa48b01b",
   "metadata": {},
   "outputs": [
    {
     "name": "stdout",
     "output_type": "stream",
     "text": [
      "Enter a word:you\n",
      "Enter a word:me\n",
      "Enter a word:you\n",
      "Enter a word:\n",
      "you\n",
      "me\n",
      "you\n"
     ]
    }
   ],
   "source": [
    "word=input(\"Enter a word:\")\n",
    "words=[]\n",
    "while word!=\"\":\n",
    "    words.append(word)\n",
    "    word=input(\"Enter a word:\")\n",
    "for word in words:\n",
    "    print(word)"
   ]
  },
  {
   "cell_type": "raw",
   "id": "495252dc",
   "metadata": {},
   "source": [
    "# QUESTION 129(TWO DICE SIMULATION)"
   ]
  },
  {
   "cell_type": "code",
   "execution_count": null,
   "id": "30f3af16",
   "metadata": {},
   "outputs": [],
   "source": [
    "import random\n",
    "def roll_dice():\n",
    "    total=random.randint(2,12)\n",
    "    return total\n",
    "dice_rolls=0\n",
    "for i in range (1000):\n",
    "    total=roll_dice()\n",
    "    dice_rolls +=1\n",
    "    print (total)    "
   ]
  },
  {
   "cell_type": "code",
   "execution_count": null,
   "id": "0d712355",
   "metadata": {},
   "outputs": [],
   "source": []
  }
 ],
 "metadata": {
  "kernelspec": {
   "display_name": "Python 3 (ipykernel)",
   "language": "python",
   "name": "python3"
  },
  "language_info": {
   "codemirror_mode": {
    "name": "ipython",
    "version": 3
   },
   "file_extension": ".py",
   "mimetype": "text/x-python",
   "name": "python",
   "nbconvert_exporter": "python",
   "pygments_lexer": "ipython3",
   "version": "3.11.4"
  }
 },
 "nbformat": 4,
 "nbformat_minor": 5
}
