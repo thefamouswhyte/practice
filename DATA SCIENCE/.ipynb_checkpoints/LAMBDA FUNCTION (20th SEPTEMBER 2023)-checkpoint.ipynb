{
 "cells": [
  {
   "cell_type": "code",
   "execution_count": null,
   "id": "4317964d",
   "metadata": {},
   "outputs": [],
   "source": [
    "def shipping_cost(number_of_items):\n",
    "    return 10.95+(number_of_items-1)*2.95"
   ]
  },
  {
   "cell_type": "code",
   "execution_count": null,
   "id": "0565334d",
   "metadata": {},
   "outputs": [],
   "source": [
    "shipping_cost(9)"
   ]
  },
  {
   "cell_type": "code",
   "execution_count": null,
   "id": "4b0a7f8b",
   "metadata": {},
   "outputs": [],
   "source": [
    "shipping_cost(1)"
   ]
  },
  {
   "cell_type": "markdown",
   "id": "c441e6d7",
   "metadata": {},
   "source": [
    "# LAMBDA FUNCTION"
   ]
  },
  {
   "cell_type": "code",
   "execution_count": null,
   "id": "ae25e323",
   "metadata": {},
   "outputs": [],
   "source": [
    "# Anonymous functions or lambda expression"
   ]
  },
  {
   "cell_type": "code",
   "execution_count": null,
   "id": "604caa9d",
   "metadata": {},
   "outputs": [],
   "source": [
    "inputs : functions_body"
   ]
  },
  {
   "cell_type": "code",
   "execution_count": 1,
   "id": "a1046e67",
   "metadata": {},
   "outputs": [],
   "source": [
    "sum_2= lambda x,y: x+y"
   ]
  },
  {
   "cell_type": "code",
   "execution_count": 2,
   "id": "62955977",
   "metadata": {},
   "outputs": [
    {
     "data": {
      "text/plain": [
       "8"
      ]
     },
     "execution_count": 2,
     "metadata": {},
     "output_type": "execute_result"
    }
   ],
   "source": [
    "sum_2(3,5)"
   ]
  },
  {
   "cell_type": "code",
   "execution_count": 6,
   "id": "d3332e54",
   "metadata": {},
   "outputs": [],
   "source": [
    "shipping_cost_1=lambda x: 10.95+(x-1)*2.95"
   ]
  },
  {
   "cell_type": "code",
   "execution_count": 14,
   "id": "f8012d48",
   "metadata": {},
   "outputs": [
    {
     "data": {
      "text/plain": [
       "10.95"
      ]
     },
     "execution_count": 14,
     "metadata": {},
     "output_type": "execute_result"
    }
   ],
   "source": [
    "shipping_cost_1(1)"
   ]
  },
  {
   "cell_type": "code",
   "execution_count": null,
   "id": "546f609c",
   "metadata": {},
   "outputs": [],
   "source": []
  },
  {
   "cell_type": "code",
   "execution_count": null,
   "id": "71f604e8",
   "metadata": {},
   "outputs": [],
   "source": []
  },
  {
   "cell_type": "code",
   "execution_count": null,
   "id": "9e5035b4",
   "metadata": {},
   "outputs": [],
   "source": []
  },
  {
   "cell_type": "code",
   "execution_count": null,
   "id": "f6e2e71a",
   "metadata": {},
   "outputs": [],
   "source": []
  }
 ],
 "metadata": {
  "kernelspec": {
   "display_name": "Python 3 (ipykernel)",
   "language": "python",
   "name": "python3"
  },
  "language_info": {
   "codemirror_mode": {
    "name": "ipython",
    "version": 3
   },
   "file_extension": ".py",
   "mimetype": "text/x-python",
   "name": "python",
   "nbconvert_exporter": "python",
   "pygments_lexer": "ipython3",
   "version": "3.11.4"
  }
 },
 "nbformat": 4,
 "nbformat_minor": 5
}
