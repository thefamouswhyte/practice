{
 "cells": [
  {
   "cell_type": "markdown",
   "id": "b475eebb",
   "metadata": {},
   "source": [
    "# HOW TO CREATE A TUPPLE "
   ]
  },
  {
   "cell_type": "code",
   "execution_count": 1,
   "id": "a928ace4",
   "metadata": {},
   "outputs": [],
   "source": [
    "my_tup=(1,2,3)"
   ]
  },
  {
   "cell_type": "code",
   "execution_count": 2,
   "id": "9cd01c07",
   "metadata": {},
   "outputs": [
    {
     "data": {
      "text/plain": [
       "tuple"
      ]
     },
     "execution_count": 2,
     "metadata": {},
     "output_type": "execute_result"
    }
   ],
   "source": [
    "type(my_tup)"
   ]
  },
  {
   "cell_type": "code",
   "execution_count": 6,
   "id": "b64f775f",
   "metadata": {},
   "outputs": [],
   "source": [
    "my_tup1=79,60,90,44"
   ]
  },
  {
   "cell_type": "code",
   "execution_count": 4,
   "id": "289c0d5d",
   "metadata": {},
   "outputs": [
    {
     "data": {
      "text/plain": [
       "tuple"
      ]
     },
     "execution_count": 4,
     "metadata": {},
     "output_type": "execute_result"
    }
   ],
   "source": [
    "type(my_tup1)"
   ]
  },
  {
   "cell_type": "markdown",
   "id": "75f369b5",
   "metadata": {},
   "source": [
    "# UNPACKING TUPLES"
   ]
  },
  {
   "cell_type": "code",
   "execution_count": 5,
   "id": "fbd3a65e",
   "metadata": {},
   "outputs": [
    {
     "name": "stdout",
     "output_type": "stream",
     "text": [
      "1\n",
      "2\n",
      "3\n"
     ]
    }
   ],
   "source": [
    "my_tup=(1,2,3)\n",
    "a,b,c=my_tup\n",
    "print(a)\n",
    "print(b)\n",
    "print(c)"
   ]
  },
  {
   "cell_type": "code",
   "execution_count": 11,
   "id": "1dd453b8",
   "metadata": {},
   "outputs": [
    {
     "name": "stdout",
     "output_type": "stream",
     "text": [
      "79\n",
      "60\n",
      "90\n",
      "[44]\n"
     ]
    }
   ],
   "source": [
    "my_tup1=79,60,90,44\n",
    "a,b,c,*d=my_tup1\n",
    "print(a)\n",
    "print(b)\n",
    "print(c)\n",
    "print(d)"
   ]
  },
  {
   "cell_type": "markdown",
   "id": "2ca6e191",
   "metadata": {},
   "source": [
    "# DICTIONARY AND SET"
   ]
  },
  {
   "cell_type": "markdown",
   "id": "293fa7fc",
   "metadata": {},
   "source": [
    "# SET"
   ]
  },
  {
   "cell_type": "code",
   "execution_count": 12,
   "id": "ff9de406",
   "metadata": {},
   "outputs": [],
   "source": [
    "numbers={1,2,3,4,4,5,5,6,6}"
   ]
  },
  {
   "cell_type": "code",
   "execution_count": 13,
   "id": "155d37b2",
   "metadata": {},
   "outputs": [
    {
     "data": {
      "text/plain": [
       "{1, 2, 3, 4, 5, 6}"
      ]
     },
     "execution_count": 13,
     "metadata": {},
     "output_type": "execute_result"
    }
   ],
   "source": [
    "numbers"
   ]
  },
  {
   "cell_type": "code",
   "execution_count": null,
   "id": "2cbea5b9",
   "metadata": {},
   "outputs": [],
   "source": []
  }
 ],
 "metadata": {
  "kernelspec": {
   "display_name": "Python 3 (ipykernel)",
   "language": "python",
   "name": "python3"
  },
  "language_info": {
   "codemirror_mode": {
    "name": "ipython",
    "version": 3
   },
   "file_extension": ".py",
   "mimetype": "text/x-python",
   "name": "python",
   "nbconvert_exporter": "python",
   "pygments_lexer": "ipython3",
   "version": "3.11.4"
  }
 },
 "nbformat": 4,
 "nbformat_minor": 5
}
