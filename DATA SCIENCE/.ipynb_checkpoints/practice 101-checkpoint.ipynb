{
 "cells": [
  {
   "cell_type": "markdown",
   "id": "449e19f6",
   "metadata": {},
   "source": [
    "# write a program that asks the user for number of sides and print"
   ]
  },
  {
   "cell_type": "code",
   "execution_count": null,
   "id": "fd419166",
   "metadata": {},
   "outputs": [],
   "source": [
    "a=int(input (\"enter number of sides: \"))\n",
    "if a==3:\n",
    "    print (\"triangle\")\n",
    "elif a==5:\n",
    "    print (\"pentagon\")\n",
    "elif a==6:\n",
    "    print (\"hexagon\")\n",
    "elif a==8:\n",
    "    print (\"octagon\")\n",
    "elif a==17:\n",
    "    print (\"heptadecagon\")\n",
    "elif a==20:\n",
    "    print (\"icosagon\")\n",
    "elif a==12:\n",
    "    print (\"dodecagon\")\n",
    "elif a==7:\n",
    "    print (\"heptagon\")\n",
    "elif a==9:\n",
    "    print (\"nonagon\")\n",
    "elif a==10:\n",
    "    print (\"decagon\")\n",
    "elif a==4:\n",
    "    print (\"quadrilateral\")\n",
    "else:\n",
    "    print (\"error\")"
   ]
  },
  {
   "cell_type": "markdown",
   "id": "92bb6a0e",
   "metadata": {},
   "source": [
    "# a program to calculate the grade of students"
   ]
  },
  {
   "cell_type": "code",
   "execution_count": 2,
   "id": "5ba7531e",
   "metadata": {},
   "outputs": [
    {
     "name": "stdout",
     "output_type": "stream",
     "text": [
      "what is your score:20\n",
      "E\n"
     ]
    }
   ],
   "source": [
    "grade=float(input(\"what is your score:\"))\n",
    "if grade>100:\n",
    "    print (\"error\")\n",
    "elif grade>=70:    \n",
    "    print (\"A\")\n",
    "elif grade>=60:\n",
    "    print (\"B\")\n",
    "elif grade>=50:\n",
    "    print (\"C\")\n",
    "elif grade>=30:\n",
    "    print (\"D\")\n",
    "elif grade>=20:\n",
    "    print (\"E\")\n",
    "elif grade>=10:\n",
    "    print (\"F\")"
   ]
  },
  {
   "cell_type": "code",
   "execution_count": null,
   "id": "57b85684",
   "metadata": {},
   "outputs": [],
   "source": []
  }
 ],
 "metadata": {
  "kernelspec": {
   "display_name": "Python 3 (ipykernel)",
   "language": "python",
   "name": "python3"
  },
  "language_info": {
   "codemirror_mode": {
    "name": "ipython",
    "version": 3
   },
   "file_extension": ".py",
   "mimetype": "text/x-python",
   "name": "python",
   "nbconvert_exporter": "python",
   "pygments_lexer": "ipython3",
   "version": "3.11.4"
  }
 },
 "nbformat": 4,
 "nbformat_minor": 5
}
