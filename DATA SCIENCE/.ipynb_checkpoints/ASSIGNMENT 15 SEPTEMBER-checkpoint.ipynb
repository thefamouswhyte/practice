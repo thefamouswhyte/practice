{
 "cells": [
  {
   "cell_type": "markdown",
   "id": "5c2ab40b",
   "metadata": {},
   "source": [
    "# QUESTION 81 (COMPUTE HYPOTENUS)"
   ]
  },
  {
   "cell_type": "code",
   "execution_count": 2,
   "id": "7cc42f6c",
   "metadata": {},
   "outputs": [
    {
     "name": "stdout",
     "output_type": "stream",
     "text": [
      "Enter the lenght of the opposite:7\n",
      "Enter the lenght of the adjacent:6\n",
      "opposite: 49.0\n",
      "adjacent: 36.0\n",
      "hypotenus: 9.219544457292887\n"
     ]
    }
   ],
   "source": [
    "opposite=float(input(\"Enter the lenght of the opposite:\"))\n",
    "adjacent=float(input(\"Enter the lenght of the adjacent:\"))\n",
    "hypotenus=()\n",
    "a=opposite\n",
    "b=adjacent\n",
    "c=hypotenus\n",
    "op=a**2\n",
    "print(\"opposite:\",op)\n",
    "adj=b**2\n",
    "print(\"adjacent:\",adj)\n",
    "import math as mth\n",
    "c=mth.sqrt((a**2)+(b**2))\n",
    "print(\"hypotenus:\",c)\n"
   ]
  },
  {
   "cell_type": "markdown",
   "id": "00e5d391",
   "metadata": {},
   "source": [
    "# QUESTION 82 (TAXI FARE)"
   ]
  },
  {
   "cell_type": "code",
   "execution_count": 3,
   "id": "3fd25d0f",
   "metadata": {},
   "outputs": [
    {
     "name": "stdout",
     "output_type": "stream",
     "text": [
      "Enter the number of meters:20\n",
      "Enter charge for taxi:60\n",
      "Enter base fare:60\n",
      "Your new base fare is: 60.0\n"
     ]
    }
   ],
   "source": [
    "meters=float(input(\"Enter the number of meters:\"))\n",
    "every_140_meters=0.25\n",
    "if meters>=140:\n",
    "    charge_per_140_meters=(meters)*(every_140_meters)\n",
    "    print(\"charge per 140 meters:\",charge_per_140_meters)\n",
    "taxi_fee=float(input(\"Enter charge for taxi:\")) \n",
    "base_fare=4.00\n",
    "if base_fare <= 4.00:\n",
    "    new_base_fare=float(input(\"Enter base fare:\"))\n",
    "    print(\"Your new base fare is:\",new_base_fare)\n",
    "\n",
    "\n"
   ]
  },
  {
   "cell_type": "markdown",
   "id": "ea3d6630",
   "metadata": {},
   "source": [
    "# QUESTION 83 (SHIPPING CALCULATOR)"
   ]
  },
  {
   "cell_type": "code",
   "execution_count": 10,
   "id": "4c666f96",
   "metadata": {},
   "outputs": [
    {
     "name": "stdout",
     "output_type": "stream",
     "text": [
      "Enter the number of item(s) you want to buy:79\n",
      "Your shipping fee is: 233.05\n"
     ]
    }
   ],
   "source": [
    "number_of_items=float(input(\"Enter the number of item(s) you want to buy:\"))\n",
    "shipping_first_item=10.95\n",
    "shipping_subsequent_items=2.95\n",
    "if number_of_items>1:\n",
    "    fee=2.95\n",
    "    shipping_fee=fee*number_of_items\n",
    "    print(f\"Your shipping fee is:\",shipping_fee)\n",
    "elif number_of_items<=1:\n",
    "    fee=10.95\n",
    "    shipping_fee=fee*number_of_items\n",
    "    print(f\"Your shipping fee is:\",shipping_fee)\n",
    "    \n",
    "    "
   ]
  },
  {
   "cell_type": "code",
   "execution_count": null,
   "id": "f9a0b7b0",
   "metadata": {},
   "outputs": [],
   "source": []
  }
 ],
 "metadata": {
  "kernelspec": {
   "display_name": "Python 3 (ipykernel)",
   "language": "python",
   "name": "python3"
  },
  "language_info": {
   "codemirror_mode": {
    "name": "ipython",
    "version": 3
   },
   "file_extension": ".py",
   "mimetype": "text/x-python",
   "name": "python",
   "nbconvert_exporter": "python",
   "pygments_lexer": "ipython3",
   "version": "3.11.4"
  }
 },
 "nbformat": 4,
 "nbformat_minor": 5
}
