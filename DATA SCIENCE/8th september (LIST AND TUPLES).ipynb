{
 "cells": [
  {
   "cell_type": "markdown",
   "id": "966b6117",
   "metadata": {},
   "source": [
    "# LISTS AND TOPLES"
   ]
  },
  {
   "cell_type": "markdown",
   "id": "d46e0795",
   "metadata": {},
   "source": [
    "#LIST"
   ]
  },
  {
   "cell_type": "markdown",
   "id": "a844747f",
   "metadata": {},
   "source": []
  },
  {
   "cell_type": "code",
   "execution_count": null,
   "id": "86912b54",
   "metadata": {},
   "outputs": [],
   "source": [
    "list= [1,2,3]"
   ]
  },
  {
   "cell_type": "code",
   "execution_count": 5,
   "id": "67c81ec3",
   "metadata": {},
   "outputs": [
    {
     "data": {
      "text/plain": [
       "[1, 2, 3]"
      ]
     },
     "execution_count": 5,
     "metadata": {},
     "output_type": "execute_result"
    }
   ],
   "source": [
    "list"
   ]
  },
  {
   "cell_type": "code",
   "execution_count": 8,
   "id": "64d146a1",
   "metadata": {},
   "outputs": [
    {
     "data": {
      "text/plain": [
       "[1, 2, 3]"
      ]
     },
     "execution_count": 8,
     "metadata": {},
     "output_type": "execute_result"
    }
   ],
   "source": [
    "list"
   ]
  },
  {
   "cell_type": "code",
   "execution_count": 9,
   "id": "f7a7fde6",
   "metadata": {},
   "outputs": [
    {
     "data": {
      "text/plain": [
       "list"
      ]
     },
     "execution_count": 9,
     "metadata": {},
     "output_type": "execute_result"
    }
   ],
   "source": [
    "type (list)"
   ]
  },
  {
   "cell_type": "code",
   "execution_count": 12,
   "id": "01081fbb",
   "metadata": {},
   "outputs": [],
   "source": [
    "list.append (200)"
   ]
  },
  {
   "cell_type": "code",
   "execution_count": 13,
   "id": "51ed6c97",
   "metadata": {},
   "outputs": [
    {
     "data": {
      "text/plain": [
       "[1, 2, 3, 200]"
      ]
     },
     "execution_count": 13,
     "metadata": {},
     "output_type": "execute_result"
    }
   ],
   "source": [
    "list"
   ]
  },
  {
   "cell_type": "code",
   "execution_count": 14,
   "id": "8e43745a",
   "metadata": {},
   "outputs": [],
   "source": [
    "list.append (90)"
   ]
  },
  {
   "cell_type": "code",
   "execution_count": 15,
   "id": "289bf792",
   "metadata": {},
   "outputs": [
    {
     "data": {
      "text/plain": [
       "[1, 2, 3, 200, 90]"
      ]
     },
     "execution_count": 15,
     "metadata": {},
     "output_type": "execute_result"
    }
   ],
   "source": [
    "list"
   ]
  },
  {
   "cell_type": "markdown",
   "id": "e098beec",
   "metadata": {},
   "source": [
    "# BREAKING,PASS AND CONTINUE"
   ]
  },
  {
   "cell_type": "code",
   "execution_count": 42,
   "id": "36a70680",
   "metadata": {},
   "outputs": [
    {
     "name": "stdout",
     "output_type": "stream",
     "text": [
      "11\n"
     ]
    }
   ],
   "source": [
    "for i in range (11,19) :\n",
    "    if i ==12 :\n",
    "        break\n",
    "    else:\n",
    "        print(i)"
   ]
  },
  {
   "cell_type": "code",
   "execution_count": 40,
   "id": "4b57982f",
   "metadata": {},
   "outputs": [
    {
     "name": "stdout",
     "output_type": "stream",
     "text": [
      "12\n",
      "13\n",
      "14\n",
      "15\n",
      "16\n",
      "17\n",
      "18\n",
      "19\n"
     ]
    }
   ],
   "source": [
    "for i in range (11,20) :\n",
    "    if i ==11 :\n",
    "        continue\n",
    "    else:\n",
    "        print(i)"
   ]
  },
  {
   "cell_type": "code",
   "execution_count": 2,
   "id": "8f61cd4a",
   "metadata": {},
   "outputs": [
    {
     "name": "stdout",
     "output_type": "stream",
     "text": [
      "dont do anything\n"
     ]
    }
   ],
   "source": [
    "for i in range (11,12) :\n",
    "    pass\n",
    "else:\n",
    "         print (\"dont do anything\")"
   ]
  },
  {
   "cell_type": "markdown",
   "id": "450e8d58",
   "metadata": {},
   "source": [
    "# IF EXPRESSION (TERANARY OPERATOR)"
   ]
  },
  {
   "cell_type": "code",
   "execution_count": 36,
   "id": "47e7c599",
   "metadata": {},
   "outputs": [
    {
     "name": "stdout",
     "output_type": "stream",
     "text": [
      "poor\n"
     ]
    }
   ],
   "source": [
    "score=45\n",
    "if score>=60:\n",
    "    remark= \"very good\"\n",
    "else:\n",
    "    remark= \"poor\"\n",
    "print (remark)    "
   ]
  },
  {
   "cell_type": "code",
   "execution_count": 38,
   "id": "d8782d86",
   "metadata": {},
   "outputs": [
    {
     "name": "stdout",
     "output_type": "stream",
     "text": [
      "very good\n"
     ]
    }
   ],
   "source": [
    "score= 60\n",
    "remark= \"very good\" if score>=60 else \"poor\"\n",
    "print (remark)"
   ]
  },
  {
   "cell_type": "code",
   "execution_count": null,
   "id": "f9becf86",
   "metadata": {},
   "outputs": [],
   "source": []
  }
 ],
 "metadata": {
  "kernelspec": {
   "display_name": "Python 3 (ipykernel)",
   "language": "python",
   "name": "python3"
  },
  "language_info": {
   "codemirror_mode": {
    "name": "ipython",
    "version": 3
   },
   "file_extension": ".py",
   "mimetype": "text/x-python",
   "name": "python",
   "nbconvert_exporter": "python",
   "pygments_lexer": "ipython3",
   "version": "3.11.4"
  }
 },
 "nbformat": 4,
 "nbformat_minor": 5
}
