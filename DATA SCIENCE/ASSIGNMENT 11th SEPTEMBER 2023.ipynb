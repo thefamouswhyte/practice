{
 "cells": [
  {
   "cell_type": "code",
   "execution_count": 83,
   "id": "ce2a2a03",
   "metadata": {},
   "outputs": [
    {
     "name": "stdout",
     "output_type": "stream",
     "text": [
      "10\n",
      "no\n",
      "You have 4 trial(S) left \n",
      "Try Again!!!\n",
      "1\n",
      "no\n",
      "You have 3 trial(S) left \n",
      "Try Again!!!\n",
      "10\n",
      "no\n",
      "You have 2 trial(S) left \n",
      "Try Again!!!\n",
      "2\n",
      "no\n",
      "You have 1 trial(S) left \n",
      "Try Again!!!\n",
      "8\n",
      "no\n",
      "You have 0 trial(S) left \n",
      "Try Again!!!\n"
     ]
    }
   ],
   "source": [
    "import random as rd\n",
    "no_of_trials=5\n",
    "for i in range(no_of_trials):\n",
    "    comp_guess=rd.randint(1,10)\n",
    "    print(comp_guess)\n",
    "    a=input()\n",
    "    if a==\"yes\":\n",
    "        print(\"correct!!!\")\n",
    "        break\n",
    "    elif a==\"no\":\n",
    "        print(f\"You have {no_of_trials-(i+1)} trial(S) left \\nTry Again!!!\")\n",
    "        "
   ]
  },
  {
   "cell_type": "markdown",
   "id": "7124dab1",
   "metadata": {},
   "source": [
    "# Question 5 (bottle deposit)"
   ]
  },
  {
   "cell_type": "code",
   "execution_count": null,
   "id": "8240219a",
   "metadata": {},
   "outputs": [],
   "source": []
  },
  {
   "cell_type": "markdown",
   "id": "5aac59a7",
   "metadata": {},
   "source": [
    "# Question 6 (tax and tip)"
   ]
  },
  {
   "cell_type": "code",
   "execution_count": 44,
   "id": "0a432594",
   "metadata": {},
   "outputs": [
    {
     "name": "stdout",
     "output_type": "stream",
     "text": [
      "enter the cost of your meal:8000\n",
      "your tip is: 1440.0\n",
      "your tax is: 1920.0\n",
      "your grand total is: 11360.0\n"
     ]
    }
   ],
   "source": [
    "# nigeria tax rate 24% which is 0.24\n",
    "\n",
    "cost_of_meal=float(input(\"enter the cost of your meal:\"))\n",
    "tip=(0.18*cost_of_meal)\n",
    "round (tip,2)\n",
    "print(\"your tip is:\",tip)\n",
    "tax=(0.24*cost_of_meal)\n",
    "round(tax,2)\n",
    "print(\"your tax is:\",tax)\n",
    "grand_total=(cost_of_meal+tip+tax)\n",
    "round(grand_total,2)\n",
    "print(\"your grand total is:\",grand_total)"
   ]
  },
  {
   "cell_type": "markdown",
   "id": "8b65f54e",
   "metadata": {},
   "source": [
    "# Question 7 (sum of the first n integers)"
   ]
  },
  {
   "cell_type": "code",
   "execution_count": 81,
   "id": "451f656b",
   "metadata": {},
   "outputs": [
    {
     "name": "stdout",
     "output_type": "stream",
     "text": [
      "Enter a number:-9\n",
      "Error!!!\n",
      "you enetred a negative number:\n"
     ]
    }
   ],
   "source": [
    "n=int(input(\"Enter a number:\"))\n",
    "if n<0:\n",
    "    print(\"Error!!!\\nyou enetred a negative number:\")\n",
    "else:\n",
    "    summ=(n*(n+1)/2)\n",
    "    print(summ)"
   ]
  },
  {
   "cell_type": "code",
   "execution_count": null,
   "id": "c3c21eac",
   "metadata": {},
   "outputs": [],
   "source": []
  },
  {
   "cell_type": "code",
   "execution_count": null,
   "id": "634e1dc8",
   "metadata": {},
   "outputs": [],
   "source": []
  },
  {
   "cell_type": "code",
   "execution_count": null,
   "id": "c53d93c3",
   "metadata": {},
   "outputs": [],
   "source": []
  },
  {
   "cell_type": "markdown",
   "id": "3c3331de",
   "metadata": {},
   "source": [
    "# Question 8 (widget and gizmos)"
   ]
  },
  {
   "cell_type": "code",
   "execution_count": 82,
   "id": "0af00b59",
   "metadata": {},
   "outputs": [
    {
     "name": "stdout",
     "output_type": "stream",
     "text": [
      "how many widget do you want?:8\n",
      "how many gizmos do you want?:5\n",
      "total weight of widget is: 600.0\n",
      "total weight of gizmos is: 560.0\n",
      "total weight of order is: 1160.0\n"
     ]
    }
   ],
   "source": [
    "a=float(input(\"how many widget do you want?:\"))\n",
    "b=float(input(\"how many gizmos do you want?:\"))\n",
    "weight_of_widget=75\n",
    "weight_of_gizmos=112\n",
    "widget=(a*weight_of_widget)\n",
    "print(\"total weight of widget is:\",widget)\n",
    "gizmos=(b*weight_of_gizmos)\n",
    "print(\"total weight of gizmos is:\",gizmos)\n",
    "total_weight_of_order=(widget+gizmos)\n",
    "print(\"total weight of order is:\",total_weight_of_order)"
   ]
  },
  {
   "cell_type": "markdown",
   "id": "876189ed",
   "metadata": {},
   "source": [
    "# Question 9 (compound interest)"
   ]
  },
  {
   "cell_type": "code",
   "execution_count": 14,
   "id": "143e9227",
   "metadata": {},
   "outputs": [
    {
     "name": "stdout",
     "output_type": "stream",
     "text": [
      "enter your first year(s) deposit:90000\n",
      "your first year(s) interest is: 3600.0\n",
      "your first year(s) saving balance is: 93600.0\n",
      "your second year bal is: 93600.0\n",
      "your second year(s) interest is: 3744.0\n",
      "your second year(s) savings bal is: 97344.0\n",
      "your third year(s) bal is: 97344.0\n",
      "your third year third year(s) interest is: 3893.76\n",
      "your third year(s) saving bal is: 101237.76\n",
      "Congrats!!!\n"
     ]
    }
   ],
   "source": [
    "# user earns 4% interest per year which is 0.04\n",
    "first_year=float(input(\"enter your first year(s) deposit:\"))\n",
    "first_year_interest=(0.04*first_year)\n",
    "round(first_year_interest,2)\n",
    "print(\"your first year(s) interest is:\",first_year_interest)\n",
    "first_year_bal=(first_year+first_year_interest)\n",
    "round(first_year_bal,2)\n",
    "print(\"your first year(s) saving balance is:\",first_year_bal)\n",
    "second_year=first_year_bal\n",
    "print(\"your second year bal is:\",first_year_bal)\n",
    "second_year_interest=(0.04*first_year_bal)\n",
    "round(second_year_interest,2)\n",
    "print(\"your second year(s) interest is:\",second_year_interest)\n",
    "second_year_bal=(second_year+second_year_interest)\n",
    "round(second_year_bal,2)\n",
    "print(\"your second year(s) savings bal is:\",second_year_bal)\n",
    "third_year=second_year_bal\n",
    "print(\"your third year(s) bal is:\",third_year)\n",
    "third_year_interest=(0.04*second_year_bal)\n",
    "round(third_year_interest,2)\n",
    "print(\"your third year third year(s) interest is:\",third_year_interest)\n",
    "third_year_bal=(third_year+third_year_interest)\n",
    "round(third_year_bal,2)\n",
    "print(\"your third year(s) saving bal is:\",third_year_bal)\n",
    "print(\"Congrats!!!\")"
   ]
  },
  {
   "cell_type": "markdown",
   "id": "fc255cab",
   "metadata": {},
   "source": [
    "# Question 10(Arithmetic)"
   ]
  },
  {
   "cell_type": "code",
   "execution_count": 33,
   "id": "69c92df1",
   "metadata": {},
   "outputs": [
    {
     "name": "stdout",
     "output_type": "stream",
     "text": [
      "Enter a number:9\n",
      "Enter a number:8\n",
      "the sum of a and b is: 17\n",
      "the difference when b is subtracted from a is: -1\n",
      "the product of a and b is: 72\n",
      "the quotient when a is divided by b is: 1\n",
      "the remainder when a is divided by b is: 1\n",
      "the result of a**b is: 43046721\n"
     ]
    }
   ],
   "source": [
    "a=int(input(\"Enter a number:\"))\n",
    "b=int(input(\"Enter a number:\"))\n",
    "summ=(a+b)\n",
    "print(\"the sum of a and b is:\",summ)\n",
    "difference=(b-a)\n",
    "print(\"the difference when b is subtracted from a is:\",difference)\n",
    "product=(a*b)\n",
    "print(\"the product of a and b is:\",product)\n",
    "quotient=(a//b)\n",
    "print(\"the quotient when a is divided by b is:\",quotient)\n",
    "remainder=(a%b)\n",
    "print(\"the remainder when a is divided by b is:\",remainder)\n",
    "#result=(log(10))*a\n",
    "# print(\"the result of log(10)*a is:\",result)\n",
    "the_result=(a**b)\n",
    "print(\"the result of a**b is:\",the_result)"
   ]
  },
  {
   "cell_type": "code",
   "execution_count": null,
   "id": "7ce5f28e",
   "metadata": {},
   "outputs": [],
   "source": []
  }
 ],
 "metadata": {
  "kernelspec": {
   "display_name": "Python 3 (ipykernel)",
   "language": "python",
   "name": "python3"
  },
  "language_info": {
   "codemirror_mode": {
    "name": "ipython",
    "version": 3
   },
   "file_extension": ".py",
   "mimetype": "text/x-python",
   "name": "python",
   "nbconvert_exporter": "python",
   "pygments_lexer": "ipython3",
   "version": "3.11.4"
  }
 },
 "nbformat": 4,
 "nbformat_minor": 5
}
