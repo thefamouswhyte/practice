{
 "cells": [
  {
   "cell_type": "code",
   "execution_count": null,
   "id": "6b87ec98",
   "metadata": {},
   "outputs": [],
   "source": []
  },
  {
   "cell_type": "code",
   "execution_count": null,
   "id": "07b914e1",
   "metadata": {},
   "outputs": [],
   "source": [
    "numbers=[4,5,3,45,34,12]\n",
    "sum_of_numbers=0\n",
    "for number in numbers:\n",
    "    sum_of_numbers=sum_of_numbers+number\n",
    "print(sum_of_numbers)"
   ]
  },
  {
   "cell_type": "code",
   "execution_count": null,
   "id": "be2b069f",
   "metadata": {},
   "outputs": [],
   "source": [
    "numbers=[4,5,3,45,34,12]\n",
    "squares=[]\n",
    "for number in numbers:\n",
    "    square=number**2\n",
    "    squares.append(square)\n",
    "print(squares)\n"
   ]
  },
  {
   "cell_type": "markdown",
   "id": "4a2a12f6",
   "metadata": {},
   "source": [
    "# MAP"
   ]
  },
  {
   "cell_type": "code",
   "execution_count": 3,
   "id": "6a5805d6",
   "metadata": {},
   "outputs": [
    {
     "data": {
      "text/plain": [
       "(16, 25, 2025, 1156, 144)"
      ]
     },
     "execution_count": 3,
     "metadata": {},
     "output_type": "execute_result"
    }
   ],
   "source": [
    "def get_square(x):\n",
    "    return x**2\n",
    "tuple(map(get_square,[4,5,45,34,12]))"
   ]
  },
  {
   "cell_type": "code",
   "execution_count": 4,
   "id": "02a45966",
   "metadata": {},
   "outputs": [
    {
     "data": {
      "text/plain": [
       "[64, 125, 91125, 39304, 1728]"
      ]
     },
     "execution_count": 4,
     "metadata": {},
     "output_type": "execute_result"
    }
   ],
   "source": [
    "list(map(lambda x:x**3,[4,5,45,34,12]))"
   ]
  },
  {
   "cell_type": "markdown",
   "id": "806f5f86",
   "metadata": {},
   "source": [
    "# FILTER"
   ]
  },
  {
   "cell_type": "code",
   "execution_count": 1,
   "id": "bc1e48d8",
   "metadata": {},
   "outputs": [
    {
     "ename": "SyntaxError",
     "evalue": "incomplete input (2825481875.py, line 3)",
     "output_type": "error",
     "traceback": [
      "\u001b[1;36m  Cell \u001b[1;32mIn[1], line 3\u001b[1;36m\u001b[0m\n\u001b[1;33m    for number in numbers:\u001b[0m\n\u001b[1;37m                          ^\u001b[0m\n\u001b[1;31mSyntaxError\u001b[0m\u001b[1;31m:\u001b[0m incomplete input\n"
     ]
    }
   ],
   "source": [
    "numbers=[4,5,3,45,34,12]\n",
    "filtered_numbers=[]\n",
    "for number in numbers:"
   ]
  },
  {
   "cell_type": "code",
   "execution_count": 2,
   "id": "d279ccd8",
   "metadata": {},
   "outputs": [
    {
     "data": {
      "text/plain": [
       "[90, 54, 34, 45]"
      ]
     },
     "execution_count": 2,
     "metadata": {},
     "output_type": "execute_result"
    }
   ],
   "source": [
    "list(filter(lambda x:x>15, [4,5,6,8,90,54,34,12,45]))"
   ]
  },
  {
   "cell_type": "code",
   "execution_count": null,
   "id": "d372e986",
   "metadata": {},
   "outputs": [],
   "source": []
  }
 ],
 "metadata": {
  "kernelspec": {
   "display_name": "Python 3 (ipykernel)",
   "language": "python",
   "name": "python3"
  },
  "language_info": {
   "codemirror_mode": {
    "name": "ipython",
    "version": 3
   },
   "file_extension": ".py",
   "mimetype": "text/x-python",
   "name": "python",
   "nbconvert_exporter": "python",
   "pygments_lexer": "ipython3",
   "version": "3.11.4"
  }
 },
 "nbformat": 4,
 "nbformat_minor": 5
}
