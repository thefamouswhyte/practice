{
 "cells": [
  {
   "cell_type": "code",
   "execution_count": null,
   "id": "12b0edda",
   "metadata": {},
   "outputs": [],
   "source": []
  },
  {
   "cell_type": "code",
   "execution_count": null,
   "id": "dc49f4e8",
   "metadata": {},
   "outputs": [],
   "source": []
  },
  {
   "cell_type": "code",
   "execution_count": null,
   "id": "a1fa1bbb",
   "metadata": {},
   "outputs": [],
   "source": [
    "input_file_name=input(\"Enter the name of the input file\")\n",
    "output_file_name=input(\"Enter the name of the output file\")\n",
    "input_file=open(input_file_name,\"r\")\n",
    "content=input_file.readlines()\n",
    "input_file.close()\n",
    "output_file=open(output_fil_name,\"w\")\n",
    "line_number=1\n",
    "for line in content:\n",
    "    output_file.write(f\"{line_number}: {linr}\")\n",
    "    line_number=line_number+1\n",
    "output_file.close()"
   ]
  },
  {
   "cell_type": "code",
   "execution_count": null,
   "id": "192f9ec7",
   "metadata": {},
   "outputs": [],
   "source": [
    "try:\n",
    "    num= float(input(\"Enter a number:\"))\n",
    "    den= float(input(\"Enter another number:\"))\n",
    "    result=num/den\n",
    "except valueError:\n",
    "    print(\"Input must be numbers\")\n",
    "except ZeroDivisionError:\n",
    "    print(\"Denominator can not be zero\")\n",
    "except:\n",
    "    print(\"We're good\")"
   ]
  },
  {
   "cell_type": "code",
   "execution_count": null,
   "id": "bb127dc3",
   "metadata": {},
   "outputs": [],
   "source": []
  }
 ],
 "metadata": {
  "kernelspec": {
   "display_name": "Python 3 (ipykernel)",
   "language": "python",
   "name": "python3"
  },
  "language_info": {
   "codemirror_mode": {
    "name": "ipython",
    "version": 3
   },
   "file_extension": ".py",
   "mimetype": "text/x-python",
   "name": "python",
   "nbconvert_exporter": "python",
   "pygments_lexer": "ipython3",
   "version": "3.11.4"
  }
 },
 "nbformat": 4,
 "nbformat_minor": 5
}
